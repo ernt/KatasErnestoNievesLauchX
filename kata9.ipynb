{
 "cells": [
  {
   "cell_type": "markdown",
   "metadata": {},
   "source": [
    "# Kata 9"
   ]
  },
  {
   "cell_type": "code",
   "execution_count": 3,
   "metadata": {},
   "outputs": [],
   "source": [
    "def state (tanque1,tanque2,tanque3):\n",
    "    promedio=(tanque1+tanque2+tanque3)/3\n",
    "    return f\"\"\"Estado de los tanques:{promedio}%\n",
    "    Tanque 1 : {tanque1}% \n",
    "    Tanque 2 : {tanque2}%\n",
    "    Tanque 3 : {tanque3}%\"\"\"\n"
   ]
  },
  {
   "cell_type": "code",
   "execution_count": 4,
   "metadata": {},
   "outputs": [
    {
     "name": "stdout",
     "output_type": "stream",
     "text": [
      "Estado de los tanques:79.0%\n",
      "    Tanque 1 : 80% \n",
      "    Tanque 2 : 80%\n",
      "    Tanque 3 : 77%\n"
     ]
    }
   ],
   "source": [
    "print(state(80,80,77))"
   ]
  },
  {
   "cell_type": "code",
   "execution_count": 6,
   "metadata": {},
   "outputs": [
    {
     "name": "stdout",
     "output_type": "stream",
     "text": [
      "79.0\n"
     ]
    }
   ],
   "source": [
    "def prom (numbers):\n",
    "    total=sum(numbers)\n",
    "    items= len(numbers)\n",
    "    return total/items\n",
    "\n",
    "print(prom([80,80,77]))"
   ]
  },
  {
   "cell_type": "code",
   "execution_count": 8,
   "metadata": {},
   "outputs": [
    {
     "name": "stdout",
     "output_type": "stream",
     "text": [
      "Estado de los tanques:79.0%\n",
      "    Tanque 1 : 80% \n",
      "    Tanque 2 : 80%\n",
      "    Tanque 3 : 77%\n"
     ]
    }
   ],
   "source": [
    "def report_state(tank1,tank2,tank3):\n",
    "    return f\"\"\"Estado de los tanques:{prom([tank1,tank2,tank3])}%\n",
    "    Tanque 1 : {tank1}% \n",
    "    Tanque 2 : {tank2}%\n",
    "    Tanque 3 : {tank3}%\"\"\"\n",
    "\n",
    "print(report_state(80,80,77))"
   ]
  },
  {
   "cell_type": "markdown",
   "metadata": {},
   "source": [
    "# Ejercicio 2:"
   ]
  },
  {
   "cell_type": "code",
   "execution_count": 18,
   "metadata": {},
   "outputs": [
    {
     "name": "stdout",
     "output_type": "stream",
     "text": [
      "\n",
      "    Destino:Mars\n",
      "    Tiempo de viaje:25 minutos\n",
      "    Tanques:43220 galones\n",
      "\n",
      "    Buen viaje :)\n",
      "    \n"
     ]
    }
   ],
   "source": [
    "def report_total (pre_lanzamiento,t_vuelo,destino,tanq1,tanq2):\n",
    "    return f\"\"\"\n",
    "    Destino:{destino}\n",
    "    Tiempo de viaje:{pre_lanzamiento+t_vuelo} minutos\n",
    "    Tanques:{tanq1+tanq2} galones\n",
    "\n",
    "    Buen viaje :)\n",
    "    \"\"\"\n",
    "\n",
    "print(report_total(14,11,\"Mars\",22000,21220))"
   ]
  },
  {
   "cell_type": "code",
   "execution_count": 21,
   "metadata": {},
   "outputs": [
    {
     "name": "stdout",
     "output_type": "stream",
     "text": [
      "\n",
      "    Destino:Mars\n",
      "    Tiempo de viaje:50 minutos\n",
      "    Tanques:1612121\n",
      "    \n",
      "    \n"
     ]
    }
   ],
   "source": [
    "def report_total (destino,*minutos,**fuel_reservoirs):\n",
    "    return f\"\"\"\n",
    "    Destino:{destino}\n",
    "    Tiempo de viaje:{sum(minutos)} minutos\n",
    "    Tanques:{sum(fuel_reservoirs.values())}\n",
    "    \n",
    "\n",
    "    Buen viaje :)\n",
    "    \"\"\"\n",
    "\n",
    "print(report_total(\"Mars\",12,14,12,12,prim=1212121,sec=400000))"
   ]
  },
  {
   "cell_type": "code",
   "execution_count": 25,
   "metadata": {},
   "outputs": [
    {
     "name": "stdout",
     "output_type": "stream",
     "text": [
      "\n",
      "    Destino:Moon\n",
      "    Tiempo de viaje:74 minutos\n",
      "    Tanques:500000\n",
      "    \n",
      "\n",
      "    Buen viaje :)\n",
      "    main tank --> 300000 gallons left\n",
      "external tank --> 200000 gallons left\n",
      "\n"
     ]
    }
   ],
   "source": [
    "def report_total (destino,*minutos,**fuel_reservoirs):\n",
    "    report_t= f\"\"\"\n",
    "    Destino:{destino}\n",
    "    Tiempo de viaje:{sum(minutos)} minutos\n",
    "    Tanques:{sum(fuel_reservoirs.values())}\n",
    "    \n",
    "\n",
    "    Buen viaje :)\n",
    "    \"\"\"\n",
    "    for tank_name, gallons in fuel_reservoirs.items():\n",
    "        report_t += f\"{tank_name} tank --> {gallons} gallons left\\n\"\n",
    " \n",
    "    return report_t\n",
    " \n",
    "print(report_total(\"Moon\", 8, 11, 55, main=300000, external=200000))"
   ]
  }
 ],
 "metadata": {
  "interpreter": {
   "hash": "2ad38f2da23137ff36436bcc238f045ff2f948bdec5490615edc5f771802c054"
  },
  "kernelspec": {
   "display_name": "Python 3.9.7 ('base')",
   "language": "python",
   "name": "python3"
  },
  "language_info": {
   "codemirror_mode": {
    "name": "ipython",
    "version": 3
   },
   "file_extension": ".py",
   "mimetype": "text/x-python",
   "name": "python",
   "nbconvert_exporter": "python",
   "pygments_lexer": "ipython3",
   "version": "3.9.7"
  },
  "orig_nbformat": 4
 },
 "nbformat": 4,
 "nbformat_minor": 2
}
