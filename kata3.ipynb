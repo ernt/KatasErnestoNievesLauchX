{
 "cells": [
  {
   "cell_type": "markdown",
   "metadata": {},
   "source": [
    "# Kata 3"
   ]
  },
  {
   "cell_type": "code",
   "execution_count": 1,
   "metadata": {},
   "outputs": [
    {
     "name": "stdout",
     "output_type": "stream",
     "text": [
      "!Cuidado un asteroide  va peligrosamente rapido\n"
     ]
    }
   ],
   "source": [
    "asteroid = 49\n",
    "if asteroid > 25:\n",
    "    print(\"!Cuidado un asteroide  va peligrosamente rapido\")\n",
    "else:\n",
    "    print(\"Todo bien al parecer\")"
   ]
  },
  {
   "cell_type": "code",
   "execution_count": 2,
   "metadata": {},
   "outputs": [
    {
     "name": "stdout",
     "output_type": "stream",
     "text": [
      "Todo bien,sigan con lo suyo\n"
     ]
    }
   ],
   "source": [
    "asteroid = 19 \n",
    "if asteroid > 20:\n",
    "    print(\"Observa , se puede ver algo a lo lejos\")\n",
    "elif asteroid == 20:\n",
    "    print(\"Observa, se puede ver algo a lo lejos\")\n",
    "else:\n",
    "    print(\"Todo bien,sigan con lo suyo\")"
   ]
  },
  {
   "cell_type": "code",
   "execution_count": 5,
   "metadata": {},
   "outputs": [
    {
     "name": "stdout",
     "output_type": "stream",
     "text": [
      "Observa , se puede ver algo a lo lejos\n"
     ]
    }
   ],
   "source": [
    "v_asteroid= 20 \n",
    "tam_asteroid= 32 \n",
    "#Si una pieza de un asteroide que es más grande que 25 metros ,cualquier velocidad superior a 25 kilómetros por segundo (km/s) merece una advertencia.\n",
    "if v_asteroid > 25 and tam_asteroid > 25:\n",
    "    print(\"!Cuidado un asteroide  va peligrosamente rapido\")\n",
    "elif v_asteroid >= 20 : #Si un asteroide entra en la atmósfera de la Tierra a una velocidad mayor o igual a 20 km/s\n",
    "    print(\"Observa , se puede ver algo a lo lejos\")\n",
    "elif tam_asteroid < 25 : #Los asteroides de menos de 25 metros en su dimensión más grande probablemente se quemarán \n",
    "    print(\"Todo bien,sigan con lo suyo\")\n",
    "else:\n",
    "    print(\"Todo bien,sigan con lo suyo\")\n"
   ]
  }
 ],
 "metadata": {
  "interpreter": {
   "hash": "2ad38f2da23137ff36436bcc238f045ff2f948bdec5490615edc5f771802c054"
  },
  "kernelspec": {
   "display_name": "Python 3.9.7 ('base')",
   "language": "python",
   "name": "python3"
  },
  "language_info": {
   "codemirror_mode": {
    "name": "ipython",
    "version": 3
   },
   "file_extension": ".py",
   "mimetype": "text/x-python",
   "name": "python",
   "nbconvert_exporter": "python",
   "pygments_lexer": "ipython3",
   "version": "3.9.7"
  },
  "orig_nbformat": 4
 },
 "nbformat": 4,
 "nbformat_minor": 2
}
